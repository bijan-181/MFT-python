{
 "cells": [
  {
   "cell_type": "markdown",
   "metadata": {},
   "source": [
    "### Erorr handling in python\n",
    "\n",
    "## list of python errors\n",
    "1. SyntaxError\n",
    "2. IndentationError\n",
    "3. NameError\n",
    "4. TypeError\n",
    "5. IndexError\n",
    "6. ValueError\n",
    "7. KeyError\n",
    "8. AttributeError\n",
    "9. ImportError\n",
    "10. IOError\n",
    "11. ZeroDivisionError\n",
    ".\n",
    ".\n",
    ".\n",
    "\n",
    "## list of python exceptions\n",
    "1. ValueError\n",
    "2. AttributeError\n",
    "3. EOFError\n",
    "4. FloatingPointError\n",
    "5. GeneratorExit\n",
    "6. ImportError\n",
    "7. IndexError\n",
    "8. KeyError\n",
    "9. KeyboardInterrupt\n",
    "10. MemoryError\n",
    "11. NameError\n",
    "12. NotImplementedError\n",
    ".\n",
    ".\n",
    "."
   ]
  },
  {
   "cell_type": "code",
   "execution_count": 4,
   "metadata": {},
   "outputs": [],
   "source": [
    "varlist= ['17','28','fss','15','17','25','19']"
   ]
  },
  {
   "cell_type": "code",
   "execution_count": 14,
   "metadata": {},
   "outputs": [
    {
     "name": "stdout",
     "output_type": "stream",
     "text": [
      " 0)17\n",
      "here is else\n",
      "here is finaly\n",
      " 1)28\n",
      "here is else\n",
      "here is finaly\n",
      " 2)fss is not a number.\n",
      "here is finaly\n",
      " 3)15\n",
      "here is else\n",
      "here is finaly\n",
      " 4)17\n",
      "here is else\n",
      "here is finaly\n",
      " 5)25\n",
      "here is else\n",
      "here is finaly\n",
      " 6)19\n",
      "here is else\n",
      "here is finaly\n",
      " 7)you are out of list\n",
      "here is finaly\n",
      " 8)you are out of list\n",
      "here is finaly\n",
      " 9)you are out of list\n",
      "here is finaly\n",
      "10)you are out of list\n",
      "here is finaly\n",
      "11)you are out of list\n",
      "here is finaly\n",
      "12)you are out of list\n",
      "here is finaly\n",
      "13)you are out of list\n",
      "here is finaly\n",
      "14)you are out of list\n",
      "here is finaly\n"
     ]
    }
   ],
   "source": [
    "for i in range(15):\n",
    "    print(f'{i:2d})',end='')\n",
    "    try:\n",
    "        print(int(varlist[i]))\n",
    "    except ValueError as e:\n",
    "        print(varlist[i],'is not a number.')\n",
    "    except IndexError as e:\n",
    "        print('you are out of list')\n",
    "    else:\n",
    "        print('here is else')\n",
    "    finally:\n",
    "        print('here is finaly')"
   ]
  }
 ],
 "metadata": {
  "kernelspec": {
   "display_name": "Python 3",
   "language": "python",
   "name": "python3"
  },
  "language_info": {
   "codemirror_mode": {
    "name": "ipython",
    "version": 3
   },
   "file_extension": ".py",
   "mimetype": "text/x-python",
   "name": "python",
   "nbconvert_exporter": "python",
   "pygments_lexer": "ipython3",
   "version": "3.11.9"
  }
 },
 "nbformat": 4,
 "nbformat_minor": 2
}
