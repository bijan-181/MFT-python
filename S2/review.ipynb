{
 "cells": [
  {
   "cell_type": "markdown",
   "metadata": {},
   "source": [
    "# `print()` function examples\n",
    "\n",
    "`sep` and `end` are optional arguments to the `print()` function.\n",
    "`sep` will be used to separate the values. The default value of `sep` is a space.\n",
    "`end` will be used to terminate the line. The default value of `end` is a newline.\n",
    "\n"
   ]
  },
  {
   "cell_type": "code",
   "execution_count": 1,
   "metadata": {},
   "outputs": [
    {
     "name": "stdout",
     "output_type": "stream",
     "text": [
      "Hello, World!\n",
      "!\t!we***are***learning***python\n",
      "class starts at8:30am\n",
      "my name is bijan\n",
      "my name is bijan\n"
     ]
    }
   ],
   "source": [
    "\n",
    "#* Assigning the string 'bijan' to the variable name\n",
    "name = 'bijan'\n",
    "\n",
    "#* Printing \"Hello\" and \"World\" with a comma separator and a custom end string\n",
    "print(\"Hello\", \"World\", sep=\", \", end=\"!\\n!\\t!\")\n",
    "\n",
    "#* Printing multiple strings with \"***\" as the separator\n",
    "print(\"we\",\"are\",\"learning\",\"python\",sep=\"***\")\n",
    "\n",
    "#* Printing time information with no space between the elements\n",
    "print(\"class starts at\", 8,\":\",30,\"am\", sep='')\n",
    "\n",
    "#* Using f-string formatting to include the value of the variable 'name' in the printed string\n",
    "print(f\"my name is {name}\")\n",
    "\n",
    "#* Using format() to include the value of the variable 'name' in the printed string\n",
    "print(\"my name is {}\".format(name))"
   ]
  },
  {
   "cell_type": "markdown",
   "metadata": {},
   "source": [
    "# string methods\n",
    "\n",
    "in this part we will learn about string methods"
   ]
  },
  {
   "cell_type": "code",
   "execution_count": 2,
   "metadata": {},
   "outputs": [
    {
     "name": "stdout",
     "output_type": "stream",
     "text": [
      "1. capitalize(): Hello, world!\n",
      "2. casefold(): hello, world!\n",
      "3. center(20):    Hello, World!    \n",
      "4. count('l'): 3\n",
      "5. encode(): b'Hello, World!'\n",
      "6. endswith('!'): True\n",
      "7. expandtabs(4): Hello, World!\n",
      "8. find('o'): 4\n",
      "9. format(name='Alice'): Hello, World!\n",
      "10. index('o'): 4\n",
      "11. isalnum(): False\n",
      "12. isalpha(): False\n",
      "13. isdecimal(): False\n",
      "14. isdigit(): False\n",
      "15. isidentifier(): False\n",
      "16. islower(): False\n",
      "17. isnumeric(): False\n",
      "18. isprintable(): True\n",
      "19. isspace(): False\n",
      "20. istitle(): True\n",
      "21. isupper(): False\n",
      "22. join(['a', 'b', 'c']): a-b-c\n",
      "23. ljust(20): Hello, World!       \n",
      "24. lower(): hello, world!\n",
      "25. lstrip('H'): ello, World!\n",
      "26. partition(', '): ('Hello', ', ', 'World!')\n",
      "27. replace('o', 'e'): Helle, Werld!\n",
      "28. rfind('o'): 8\n",
      "29. rindex('o'): 8\n",
      "30. rjust(20):        Hello, World!\n",
      "31. rpartition(', '): ('Hello', ', ', 'World!')\n",
      "32. rsplit(' '): ['Hello,', 'World!']\n",
      "33. rstrip('!'): Hello, World\n",
      "34. split(' '): ['Hello,', 'World!']\n",
      "35. splitlines(): ['Hello, World!']\n",
      "36. startswith('H'): True\n",
      "37. strip('H!'): ello, World\n",
      "38. swapcase(): hELLO, wORLD!\n",
      "39. title(): Hello, World!\n",
      "40. translate(): HeLLo, WorLd!\n",
      "41. upper(): HELLO, WORLD!\n",
      "42. zfill(20): 0000000Hello, World!\n"
     ]
    }
   ],
   "source": [
    "# Define a sample string\n",
    "sample_string = \"Hello, World!\"\n",
    "\n",
    "# Apply all string methods and print the results\n",
    "\n",
    "#* capitalize() returns a copy of the string with only its first character capitalized.\n",
    "print(\"1. capitalize():\", sample_string.capitalize())\n",
    "\n",
    "#* casefold() returns a copy of the string with all its characters converted to lowercase.\n",
    "print(\"2. casefold():\", sample_string.casefold())\n",
    "\n",
    "#* center() returns a copy of the string centered within the specified width.\n",
    "print(\"3. center(20):\", sample_string.center(20))\n",
    "\n",
    "#* count() returns the number of occurrences of a substring within the string.\n",
    "print(\"4. count('l'):\", sample_string.count('l'))\n",
    "\n",
    "#* encode() returns the encoded version of the string.\n",
    "print(\"5. encode():\", sample_string.encode())\n",
    "\n",
    "#* endswith() returns True if the string ends with the specified suffix, False otherwise.\n",
    "print(\"6. endswith('!'):\", sample_string.endswith('!'))\n",
    "\n",
    "#* expandtabs() returns a copy of the string where all tab characters are replaced with one or more spaces.\n",
    "print(\"7. expandtabs(4):\", sample_string.expandtabs(4))\n",
    "\n",
    "#* find() returns the lowest index of the first occurrence of a substring within the string.\n",
    "print(\"8. find('o'):\", sample_string.find('o'))\n",
    "\n",
    "#* format() formats the string using the specified arguments.\n",
    "print(\"9. format(name='Alice'):\", sample_string.format(name='Alice'))\n",
    "\n",
    "#* index() returns the lowest index of the first occurrence of a substring within the string.\n",
    "print(\"10. index('o'):\", sample_string.index('o'))\n",
    "\n",
    "#* isalnum() returns True if the string is alphanumeric, False otherwise.\n",
    "print(\"11. isalnum():\", sample_string.isalnum())\n",
    "\n",
    "#* isalpha() returns True if the string is alphabetic, False otherwise.\n",
    "print(\"12. isalpha():\", sample_string.isalpha())\n",
    "\n",
    "#* isdecimal() returns True if the string is a decimal string, False otherwise.\n",
    "print(\"13. isdecimal():\", sample_string.isdecimal())\n",
    "\n",
    "#* isdigit() returns True if the string is a digit string, False otherwise.\n",
    "print(\"14. isdigit():\", sample_string.isdigit())\n",
    "\n",
    "#* isidentifier() returns True if the string is a valid identifier, False otherwise.\n",
    "print(\"15. isidentifier():\", sample_string.isidentifier())\n",
    "\n",
    "#* islower() returns True if the string is a lowercase string, False otherwise.\n",
    "print(\"16. islower():\", sample_string.islower())\n",
    "\n",
    "#* isnumeric() returns True if the string is a numeric string, False otherwise.\n",
    "print(\"17. isnumeric():\", sample_string.isnumeric())\n",
    "\n",
    "#* isprintable() returns True if the string is printable, False otherwise.\n",
    "print(\"18. isprintable():\", sample_string.isprintable()) \n",
    "\n",
    "#* isspace() returns True if the string is a whitespace string, False otherwise.\n",
    "print(\"19. isspace():\", sample_string.isspace())\n",
    "\n",
    "#* istitle() returns True if the string is a titlecased string, False otherwise.\n",
    "print(\"20. istitle():\", sample_string.istitle())\n",
    "\n",
    "#* isupper() returns True if the string is an uppercase string, False otherwise.\n",
    "print(\"21. isupper():\", sample_string.isupper())\n",
    "\n",
    "#* join() returns a string concatenated with the elements of an iterable.\n",
    "print(\"22. join(['a', 'b', 'c']):\", '-'.join(['a', 'b', 'c']))\n",
    "\n",
    "#* ljust() returns a copy of the string left justified within the specified width.\n",
    "print(\"23. ljust(20):\", sample_string.ljust(20))\n",
    "\n",
    "#* lower() returns a copy of the string converted to lowercase.\n",
    "print(\"24. lower():\", sample_string.lower())\n",
    "\n",
    "#* lstrip() returns a copy of the string with leading whitespace removed.\n",
    "print(\"25. lstrip('H'):\", sample_string.lstrip('H')) \n",
    "\n",
    "#* partition() returns a tuple containing the string split into three parts.\n",
    "print(\"26. partition(', '):\", sample_string.partition(', '))\n",
    "\n",
    "#* replace() returns a copy of the string with all occurrences of a substring replaced with a new one.\n",
    "print(\"27. replace('o', 'e'):\", sample_string.replace('o', 'e'))\n",
    "\n",
    "#* rfind() returns the highest index of the first occurrence of a substring within the string.\n",
    "print(\"28. rfind('o'):\", sample_string.rfind('o'))\n",
    "\n",
    "#* rindex() returns the highest index of the first occurrence of a substring within the string.\n",
    "print(\"29. rindex('o'):\", sample_string.rindex('o'))\n",
    "\n",
    "#* rjust() returns a copy of the string right justified within the specified width.\n",
    "print(\"30. rjust(20):\", sample_string.rjust(20))\n",
    "\n",
    "#* rpartition() returns a tuple containing the string split into three parts.\n",
    "print(\"31. rpartition(', '):\", sample_string.rpartition(', '))\n",
    "\n",
    "#* rsplit() returns a list of the words in the string, using the specified separator as the delimiter.\n",
    "print(\"32. rsplit(' '):\", sample_string.rsplit(' '))\n",
    "\n",
    "#* rstrip() returns a copy of the string with trailing whitespace removed.\n",
    "print(\"33. rstrip('!'):\", sample_string.rstrip('!'))\n",
    "\n",
    "#* split() returns a list of the words in the string, using the specified separator as the delimiter.\n",
    "print(\"34. split(' '):\", sample_string.split(' '))\n",
    "\n",
    "#* splitlines() returns a list of the lines in the string, breaking at line boundaries.\n",
    "print(\"35. splitlines():\", sample_string.splitlines())\n",
    "\n",
    "#* startswith() returns True if the string starts with the specified prefix, False otherwise.\n",
    "print(\"36. startswith('H'):\", sample_string.startswith('H'))\n",
    "\n",
    "#* strip() returns a copy of the string with leading and trailing whitespace removed.\n",
    "print(\"37. strip('H!'):\", sample_string.strip('H!'))\n",
    "\n",
    "#* swapcase() returns a copy of the string with uppercase characters converted to lowercase and vice versa.\n",
    "print(\"38. swapcase():\", sample_string.swapcase())\n",
    "\n",
    "#* title() returns a copy of the string with only its first character capitalized.\n",
    "print(\"39. title():\", sample_string.title())\n",
    "\n",
    "#* translate() returns a copy of the string where all characters occurring in the optional argument are removed, and the remaining characters have been mapped through the translation table.\n",
    "print(\"40. translate():\", sample_string.translate(str.maketrans('l', 'L')))\n",
    "\n",
    "#* upper() returns a copy of the string converted to uppercase.\n",
    "print(\"41. upper():\", sample_string.upper())\n",
    "\n",
    "#* zfill() returns a copy of the string left filled with zeros in a string of the specified length.\n",
    "print(\"42. zfill(20):\", sample_string.zfill(20))\n"
   ]
  },
  {
   "cell_type": "code",
   "execution_count": 4,
   "metadata": {},
   "outputs": [
    {
     "name": "stdout",
     "output_type": "stream",
     "text": [
      "|   ali    | mohammd  |\n",
      "|  bijan   |  mehran  |\n"
     ]
    }
   ],
   "source": [
    "a = ['ali', 'mohammd', 'bijan', 'mehran']\n",
    "for i in range(0,len(a),2):\n",
    "    print(\"|\"+a[i].center(10),end='|')\n",
    "    print(a[i+1].center(10)+'|')\n"
   ]
  },
  {
   "cell_type": "markdown",
   "metadata": {},
   "source": [
    "# string formatting / f-strings\n",
    "\n",
    "F-strings support a variety of formatting options to control the appearance of values within the string. Here are some common formatting options:\n"
   ]
  },
  {
   "cell_type": "markdown",
   "metadata": {},
   "source": [
    "\n",
    "1. **Basic Formatting:**\n",
    "   - `{variable}`: Embeds the value of the variable directly.\n",
    "\n",
    "\n"
   ]
  },
  {
   "cell_type": "code",
   "execution_count": 10,
   "metadata": {},
   "outputs": [
    {
     "name": "stdout",
     "output_type": "stream",
     "text": [
      "My name is Bijan and I am 25 years old.\n",
      "My name is Bijan and I am 25 years old.\n",
      "My name is Bijan and I am 25 years old.\n",
      "My name is Bijan and I am 25 years old.\n",
      "My name is Bijan and I am 25 years old.\n"
     ]
    }
   ],
   "source": [
    "name = \"Bijan\"\n",
    "age = 25\n",
    "num =284367\n",
    "print(\"My name is {} and I am {} years old.\".format(name,age,num))\n",
    "print(\"My name is {0} and I am {1} years old.\".format(name, age))\n",
    "print(\"My name is {1} and I am {0} years old.\".format(age, name))\n",
    "print(\"My name is {name} and I am {age} years old.\".format(name=name, age=age))\n",
    "print(f\"My name is {name} and I am {age} years old.\")"
   ]
  },
  {
   "cell_type": "markdown",
   "metadata": {},
   "source": [
    "\n",
    "2. **Width and Precision:**\n",
    "   - `{variable:width}`: Specifies the minimum width of the field.\n",
    "   - `{variable:.precisionf}`: Specifies the precision for floating-point numbers.\n",
    "\n"
   ]
  },
  {
   "cell_type": "code",
   "execution_count": 11,
   "metadata": {},
   "outputs": [
    {
     "name": "stdout",
     "output_type": "stream",
     "text": [
      "  42\n",
      "3.14\n"
     ]
    }
   ],
   "source": [
    "number = 42\n",
    "float_number = 3.14159\n",
    "print(f\"{number:4}\")\n",
    "print(f\"{float_number:.2f}\")\n"
   ]
  },
  {
   "cell_type": "markdown",
   "metadata": {},
   "source": [
    "3. **Alignment:**\n",
    "   - `{variable:<width}`: Left-aligns the value within the specified width.\n",
    "   - `{variable:>width}`: Right-aligns the value within the specified width.\n",
    "   - `{variable:^width}`: Center-aligns the value within the specified width.\n"
   ]
  },
  {
   "cell_type": "code",
   "execution_count": 14,
   "metadata": {},
   "outputs": [
    {
     "name": "stdout",
     "output_type": "stream",
     "text": [
      "Hello     .\n",
      "     Hello.\n",
      "  Hello   .\n"
     ]
    }
   ],
   "source": [
    "\n",
    "text = \"Hello\"\n",
    "print(f\"{text:<10}.\")\n",
    "print(f\"{text:>10}.\")\n",
    "print(f\"{text:^10}.\")"
   ]
  },
  {
   "cell_type": "markdown",
   "metadata": {},
   "source": [
    "\n",
    "4. **Zero Padding:**\n",
    "   - `{variable:0width}`: Pads the value with zeros to the left.\n",
    "\n",
    "\n"
   ]
  },
  {
   "cell_type": "code",
   "execution_count": 15,
   "metadata": {},
   "outputs": [
    {
     "name": "stdout",
     "output_type": "stream",
     "text": [
      "00042\n"
     ]
    }
   ],
   "source": [
    "number = 42\n",
    "print(f\"{number:05}\")"
   ]
  },
  {
   "cell_type": "markdown",
   "metadata": {},
   "source": [
    "\n",
    "5. **Signs and Symbols:**\n",
    "   - `{variable:+}`: Includes a plus sign for positive numbers.\n",
    "   - `{variable:-}`: Includes a minus sign for negative numbers.\n",
    "   - `{variable: }`: Adds a space for positive numbers.\n",
    "\n",
    "\n"
   ]
  },
  {
   "cell_type": "code",
   "execution_count": 16,
   "metadata": {},
   "outputs": [
    {
     "name": "stdout",
     "output_type": "stream",
     "text": [
      "+42\n",
      " 42\n",
      "-42\n",
      "-42\n"
     ]
    }
   ],
   "source": [
    "positive = 42\n",
    "negative = -42\n",
    "print(f\"{positive:+}\")\n",
    "print(f\"{positive: }\")\n",
    "print(f\"{negative:-}\")\n",
    "print(f\"{negative: }\")"
   ]
  },
  {
   "cell_type": "markdown",
   "metadata": {},
   "source": [
    "\n",
    "6. **Comma Separators:**\n",
    "   - `{variable:,}`: Adds commas as a thousands separator for numbers.\n"
   ]
  },
  {
   "cell_type": "code",
   "execution_count": 18,
   "metadata": {},
   "outputs": [
    {
     "name": "stdout",
     "output_type": "stream",
     "text": [
      "1,000,000\n",
      "1_000_000\n"
     ]
    }
   ],
   "source": [
    "\n",
    "large_number = 1_000_000\n",
    "print(f\"{large_number:,}\")\n",
    "print(f\"{large_number:_}\")"
   ]
  },
  {
   "cell_type": "markdown",
   "metadata": {},
   "source": [
    "7. **Bytes and Unicode:**\n",
    "   - `{variable:b}`: Binary format.\n",
    "   - `{variable:o}`: Octal format.\n",
    "   - `{variable:x}`: Hexadecimal format (lower case).\n",
    "   - `{variable:X}`: Hexadecimal format (upper case).\n",
    "   - `{variable:d}`: Decimal format.\n",
    "   - `{variable:n}`: Number format.\n",
    "   - `{variable:c}`: Converts the integer to the corresponding unicode character.\n"
   ]
  },
  {
   "cell_type": "code",
   "execution_count": 19,
   "metadata": {},
   "outputs": [
    {
     "name": "stdout",
     "output_type": "stream",
     "text": [
      "11110100001001000000\n",
      "3641100\n",
      "f4240\n",
      "F4240\n",
      "9\n",
      "9\n"
     ]
    }
   ],
   "source": [
    "print(f\"{large_number:b}\")\n",
    "print(f\"{large_number:o}\")\n",
    "print(f\"{large_number:x}\")\n",
    "print(f\"{large_number:X}\")\n",
    "binary = 0b1001\n",
    "print(f\"{binary:n}\")\n",
    "print(f\"{binary:d}\")\n"
   ]
  },
  {
   "cell_type": "code",
   "execution_count": 20,
   "metadata": {},
   "outputs": [
    {
     "name": "stdout",
     "output_type": "stream",
     "text": [
      "68\n",
      "D\n",
      "D\n"
     ]
    }
   ],
   "source": [
    "\n",
    "print(ord('D'))\n",
    "print(chr(68))\n",
    "num = ord('D')\n",
    "print(f\"{num:c}\")\n"
   ]
  },
  {
   "cell_type": "markdown",
   "metadata": {},
   "source": [
    "\n",
    "8. **Other:**\n",
    "   - `{variable:e}`: Scientific notation with a lowercase e.\n",
    "   - `{variable:E}`: Scientific notation with an uppercase E.\n",
    "   - `{variable:f}`: Fixed-point notation.\n",
    "   - `{variable:%}`: Percentage format."
   ]
  },
  {
   "cell_type": "code",
   "execution_count": 21,
   "metadata": {},
   "outputs": [
    {
     "name": "stdout",
     "output_type": "stream",
     "text": [
      "1.000000e+06\n",
      "1.000000E+06\n",
      "1000000.000000\n",
      "100000000.000000%\n"
     ]
    }
   ],
   "source": [
    "print(f\"{large_number:e}\")\n",
    "print(f\"{large_number:E}\")\n",
    "print(f\"{large_number:f}\")\n",
    "print(f\"{large_number:%}\")"
   ]
  },
  {
   "cell_type": "markdown",
   "metadata": {},
   "source": [
    "# string slicing\n",
    "\n",
    "in this part we will learn about string slicing\n"
   ]
  },
  {
   "cell_type": "code",
   "execution_count": 22,
   "metadata": {},
   "outputs": [
    {
     "name": "stdout",
     "output_type": "stream",
     "text": [
      "Hello\n",
      "World!\n",
      "Hello\n",
      "World\n",
      "!dlroW ,olleH\n",
      "Hlo ol!\n"
     ]
    }
   ],
   "source": [
    "# Define a sample string\n",
    "sample_string = \"Hello, World!\"\n",
    "\n",
    "# Perform string slicing\n",
    "print(sample_string[0:5])\n",
    "print(sample_string[7:])\n",
    "print(sample_string[:5])\n",
    "print(sample_string[-6:-1])\n",
    "print(sample_string[::-1])\n",
    "print(sample_string[::2])"
   ]
  }
 ],
 "metadata": {
  "kernelspec": {
   "display_name": "Python 3",
   "language": "python",
   "name": "python3"
  },
  "language_info": {
   "codemirror_mode": {
    "name": "ipython",
    "version": 3
   },
   "file_extension": ".py",
   "mimetype": "text/x-python",
   "name": "python",
   "nbconvert_exporter": "python",
   "pygments_lexer": "ipython3",
   "version": "3.11.7"
  }
 },
 "nbformat": 4,
 "nbformat_minor": 2
}
