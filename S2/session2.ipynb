{
 "cells": [
  {
   "cell_type": "markdown",
   "metadata": {},
   "source": [
    "# Naming Conventions\n",
    "\n",
    "Demonstrates various naming conventions in coding:\n",
    "\n",
    "- **Lower Camel Case:** `lowerCamelCase` for variable names.\n",
    "- **Upper Camel Case (Pascal Case):** `UpperCamelCase` for variable names.\n",
    "- **Snake Case:** `snake_case` for variable names.\n",
    "- **Upper Case:** `UPPER_CASE` for constant names.\n"
   ]
  },
  {
   "cell_type": "code",
   "execution_count": null,
   "metadata": {},
   "outputs": [],
   "source": [
    "# Lower Camel Case\n",
    "lowerCamelCase = \"lower camel case\" #* Function like : getUser, getUserName, getUserAge\n",
    "\n",
    "# Upper Camel Case (Pascal Case)\n",
    "UpperCamelCase = \"upper camel case\" #* Class like : User, UserAge, UserAge\n",
    "\n",
    "# Snake Case\n",
    "snake_case = \"snake case\" #* Variable like : user_name, user_id, user_age\n",
    "\n",
    "# Upper Case\n",
    "UPPER_CASE = \"upper case\" #* Constant like : PI = 3.14 , MAX = 1000, MIN = 0\n"
   ]
  },
  {
   "cell_type": "markdown",
   "metadata": {},
   "source": [
    "# Type Checking Example\n",
    "\n",
    "Demonstrates the use of the `type()` function to check the data type of variables.\n",
    "\n",
    "- int\n",
    "- str\n",
    "- list\n",
    "- bool\n",
    "- float\n",
    "- complex\n",
    "- tuple\n",
    "- dict\n",
    "- set\n"
   ]
  },
  {
   "cell_type": "code",
   "execution_count": 1,
   "metadata": {},
   "outputs": [
    {
     "name": "stdout",
     "output_type": "stream",
     "text": [
      "<class 'int'>\n",
      "<class 'str'>\n",
      "<class 'list'>\n",
      "<class 'bool'>\n",
      "<class 'float'>\n",
      "<class 'complex'>\n",
      "<class 'tuple'>\n",
      "<class 'dict'>\n",
      "<class 'set'>\n"
     ]
    }
   ],
   "source": [
    "# Example 1: Using type() function\n",
    "a = 5\n",
    "b = \"Hello\"\n",
    "c = [1, 2, 3]\n",
    "d = True\n",
    "e = 3.14\n",
    "f = 3 + 5j\n",
    "j = (1, 2, 3)\n",
    "k = {\"name\": \"John\", \"age\": 36}\n",
    "m = {1, 2, 3}\n",
    "\n",
    "print(type(a))\n",
    "print(type(b))\n",
    "print(type(c))\n",
    "print(type(d))\n",
    "print(type(e))\n",
    "print(type(f))\n",
    "print(type(j))\n",
    "print(type(k))\n",
    "print(type(m))\n"
   ]
  },
  {
   "cell_type": "markdown",
   "metadata": {},
   "source": [
    "# Object Identity Example\n",
    "\n",
    "This code snippet demonstrates the use of the `id()` function in Python to retrieve the identity of different objects. The `id()` function returns a unique identifier for each object, representing its memory address.\n",
    "\n",
    "- `print(id(i))`: This line prints the identity of the integer object `i`. The identity is a unique number representing the memory location of the integer object.\n",
    "\n",
    "- `print(id(s))`: This line prints the identity of the string object `s`. Similar to the integer, it shows the unique identifier for the memory location of the string object.\n",
    "\n",
    "- `print(id(l))`: This line prints the identity of the list object `l`. Again, it shows the unique identifier for the memory location of the list object.\n",
    "\n",
    "By using the `id()` function, you can observe that different objects have different identities, reflecting their distinct memory locations in the computer's memory."
   ]
  },
  {
   "cell_type": "code",
   "execution_count": 2,
   "metadata": {},
   "outputs": [
    {
     "name": "stdout",
     "output_type": "stream",
     "text": [
      "11176008\n",
      "140010535942000\n",
      "140010535819520\n"
     ]
    }
   ],
   "source": [
    "\n",
    "# Example 2: Using id() function\n",
    "i = 10\n",
    "s = \"World\"\n",
    "l = [4, 5, 6]\n",
    "\n",
    "print(id(i))\n",
    "print(id(s))\n",
    "print(id(l))\n"
   ]
  },
  {
   "cell_type": "code",
   "execution_count": 3,
   "metadata": {},
   "outputs": [
    {
     "name": "stdout",
     "output_type": "stream",
     "text": [
      "140010535942000\n",
      "140010535942000\n"
     ]
    }
   ],
   "source": [
    "s1 = s\n",
    "print(id(s1))\n",
    "s2 = s[0:]\n",
    "print(id(s2))"
   ]
  },
  {
   "cell_type": "code",
   "execution_count": 4,
   "metadata": {},
   "outputs": [
    {
     "name": "stdout",
     "output_type": "stream",
     "text": [
      "Hello\n",
      "140010535932464\n",
      "World\n",
      "140010535942000\n",
      "World\n",
      "140010535942000\n"
     ]
    }
   ],
   "source": [
    "\n",
    "s = \"Hello\"\n",
    "print(s)\n",
    "print(id(s))\n",
    "print(s1)\n",
    "print(id(s1))\n",
    "print(s2)\n",
    "print(id(s2))\n"
   ]
  },
  {
   "cell_type": "code",
   "execution_count": 6,
   "metadata": {},
   "outputs": [
    {
     "name": "stdout",
     "output_type": "stream",
     "text": [
      "[1, 2, 3]\n",
      "[1, 2, 3]\n",
      "140010535964288 140010535964288 140010535904576\n"
     ]
    }
   ],
   "source": [
    "l = [1,2,3]\n",
    "print(l)\n",
    "l1 = l\n",
    "print(l1)\n",
    "l2 = l[:]\n",
    "print(id(l),id(l1),id(l2))\n"
   ]
  },
  {
   "cell_type": "code",
   "execution_count": 8,
   "metadata": {},
   "outputs": [
    {
     "name": "stdout",
     "output_type": "stream",
     "text": [
      "[1, 2, 3, 'a', 'b', 'a', 'b'] [1, 2, 3, 'a', 'b', 'a', 'b'] [1, 2, 3, 'c']\n",
      "140010535964288 140010535964288 140010535904576\n"
     ]
    }
   ],
   "source": [
    "l.append('a')\n",
    "l1.append('b')\n",
    "l2.append('c')\n",
    "print(l,l1,l2)\n",
    "print(id(l),id(l1),id(l2))\n"
   ]
  },
  {
   "cell_type": "markdown",
   "metadata": {},
   "source": [
    "\n",
    "# User Input Example\n",
    "\n",
    "to get user input in Python, you can use the `input()` function. The `input()` function prompts the user to enter a value, and returns a string value containing the user input."
   ]
  },
  {
   "cell_type": "code",
   "execution_count": null,
   "metadata": {},
   "outputs": [],
   "source": [
    "name = input(\"Enter your name: \")\n",
    "print(name)\n",
    "print(type(name))\n",
    "\n",
    "\n"
   ]
  },
  {
   "cell_type": "markdown",
   "metadata": {},
   "source": [
    "# change variable type example\n",
    "\n",
    "in this part we change the type of variable from str to int after we get input from user\n",
    "\n",
    "for this we just need to use `int()` function to change a variable type to int\n",
    "\n",
    "\n",
    "\n"
   ]
  },
  {
   "cell_type": "code",
   "execution_count": 9,
   "metadata": {},
   "outputs": [
    {
     "name": "stdout",
     "output_type": "stream",
     "text": [
      "54\n",
      "<class 'str'>\n",
      "54\n",
      "<class 'int'>\n"
     ]
    }
   ],
   "source": [
    "age = input(\"Enter your age: \")\n",
    "print(age)\n",
    "print(type(age))\n",
    "\n",
    "age = int(age)\n",
    "print(age)\n",
    "print(type(age))"
   ]
  },
  {
   "cell_type": "markdown",
   "metadata": {},
   "source": [
    "# more examples for change variable type\n",
    "\n",
    "- `int()` for change a variable type to int.\n",
    "- `str()` for change a variable type to str.\n",
    "- `float()` for change a variable type to float.\n",
    "- `bool()` for change a variable type to bool.\n",
    "- `list()` for change a variable type to list.\n",
    "- `tuple()` for change a variable type to tuple.\n",
    "- `set()` for change a variable type to set.\n",
    "- `dict()` for change a variable type to dict.\n",
    "- `complex()` for change a variable type to complex.\n",
    "- `bytes()` for change a variable type to bytes.\n",
    "- `bytearray()` for change a variable type to bytearray.\n",
    "- `memoryview()` for change a variable type to memoryview.\n"
   ]
  },
  {
   "cell_type": "code",
   "execution_count": 10,
   "metadata": {},
   "outputs": [
    {
     "name": "stdout",
     "output_type": "stream",
     "text": [
      "1.458\t->\t<class 'str'>\n",
      "1.458\t->\t<class 'float'>\n",
      "1\t->\t<class 'int'>\n",
      "True\t->\t<class 'bool'>\n"
     ]
    }
   ],
   "source": [
    "string = '1.458'\n",
    "print(string,type(string),sep='\\t->\\t')\n",
    "float_number = float(string)\n",
    "print(float_number,type(float_number),sep='\\t->\\t')\n",
    "integer_number = int(float_number)\n",
    "print(integer_number,type(integer_number),sep='\\t->\\t')\n",
    "boolean = bool(integer_number)\n",
    "print(boolean,type(boolean),sep='\\t->\\t')"
   ]
  },
  {
   "cell_type": "markdown",
   "metadata": {},
   "source": [
    "# list data type\n",
    "\n",
    "for define a list we need to use `[]` and put our items in it.\n",
    "in python we can use any type of data in a list. for example we can use int, str, float, bool, list, tuple, set, dict, complex, bytes, bytearray, memoryview.\n",
    "\n",
    "list is a mutable data type. it means we can change it after we define it. for example we can add new items to it or remove items from it. we can also change items in it. \n",
    "\n",
    "also list is a itrable data type. it means we can use `for` loop for it. we can also use `while` loop for it."
   ]
  },
  {
   "cell_type": "code",
   "execution_count": 10,
   "metadata": {},
   "outputs": [
    {
     "name": "stdout",
     "output_type": "stream",
     "text": [
      "[1, 'ali', 2.5, True]\n",
      "ali\n",
      "True\n",
      "['ali', 2.5, True]\n",
      "[1, 'ali']\n",
      "[1, 2.5]\n",
      "[True, 2.5, 'ali', 1]\n",
      "[1, 'reza', 2.5, True]\n"
     ]
    }
   ],
   "source": [
    "list_1 = [1, 'ali', 2.5, True]\n",
    "print(list_1)\n",
    "print(list_1[1])\n",
    "print(list_1[-1])\n",
    "print(list_1[1:])\n",
    "print(list_1[:2])\n",
    "print(list_1[::2])\n",
    "print(list_1[::-1])\n",
    "list_1[1] = 'reza'\n",
    "print(list_1)"
   ]
  },
  {
   "cell_type": "code",
   "execution_count": 7,
   "metadata": {},
   "outputs": [
    {
     "name": "stdout",
     "output_type": "stream",
     "text": [
      "0\n",
      "-1\n",
      "-2\n",
      "-3\n",
      "-4\n"
     ]
    }
   ],
   "source": [
    "name1 = 'mohammad'\n",
    "names = ['amir','bijan','hassan','mehran',name1]\n",
    "# for name in names:\n",
    "#     print(name)\n",
    "# for i in range(5):#->[0,1,2,3,4]\n",
    "#     print(names[i])\n",
    "# for i in range(2,5,2):#->[2,4]\n",
    "#     print(names[i])\n",
    "# for i in range(0,-5,-1):#->[0,-1,-2,-3,-4]\n",
    "#     print(i)\n"
   ]
  },
  {
   "cell_type": "code",
   "execution_count": 10,
   "metadata": {},
   "outputs": [
    {
     "name": "stdout",
     "output_type": "stream",
     "text": [
      "['amir', 'ali', 'mohammad', 'reza']\n"
     ]
    }
   ],
   "source": [
    "list_1 = []\n",
    "list_1.append('amir')\n",
    "list_1.append('ali')\n",
    "list_1.append('mohammad')\n",
    "list_1.append('reza')\n",
    "print(list_1)"
   ]
  },
  {
   "cell_type": "code",
   "execution_count": 13,
   "metadata": {},
   "outputs": [
    {
     "name": "stdout",
     "output_type": "stream",
     "text": [
      "amir\n",
      "ali\n",
      "mohammad\n",
      "reza\n"
     ]
    }
   ],
   "source": [
    "print(list_1[0])\n",
    "print(list_1[1])\n",
    "print(list_1[2])\n",
    "print(list_1[3])"
   ]
  }
 ],
 "metadata": {
  "kernelspec": {
   "display_name": "Python 3",
   "language": "python",
   "name": "python3"
  },
  "language_info": {
   "codemirror_mode": {
    "name": "ipython",
    "version": 3
   },
   "file_extension": ".py",
   "mimetype": "text/x-python",
   "name": "python",
   "nbconvert_exporter": "python",
   "pygments_lexer": "ipython3",
   "version": "3.11.7"
  }
 },
 "nbformat": 4,
 "nbformat_minor": 2
}
