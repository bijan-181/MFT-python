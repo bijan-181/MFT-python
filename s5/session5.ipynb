{
 "cells": [
  {
   "cell_type": "code",
   "execution_count": 9,
   "metadata": {},
   "outputs": [],
   "source": [
    "# example 1 \n",
    "a1 = list(map(int,input().split()))\n",
    "a2 = list(map(int,input().split()))\n",
    "a3 = list(map(int,input().split()))\n"
   ]
  },
  {
   "cell_type": "code",
   "execution_count": 10,
   "metadata": {},
   "outputs": [
    {
     "name": "stdout",
     "output_type": "stream",
     "text": [
      "[8, 3]\n"
     ]
    }
   ],
   "source": [
    "a4 = []\n",
    "if a1[0] == a2[0]:\n",
    "    a4.append(a3[0])\n",
    "elif a1[0] == a3[0]:\n",
    "    a4.append(a2[0])\n",
    "elif a2[0] == a3[0]:\n",
    "    a4.append(a1[0])\n",
    "if a1[1] == a2[1]:\n",
    "    a4.append(a3[1])\n",
    "elif a1[1] == a3[1]:\n",
    "    a4.append(a2[1])\n",
    "elif a2[1] == a3[1]:\n",
    "    a4.append(a1[1])\n",
    "print(a4)\n"
   ]
  },
  {
   "cell_type": "code",
   "execution_count": 13,
   "metadata": {},
   "outputs": [
    {
     "name": "stdout",
     "output_type": "stream",
     "text": [
      "not prime\n"
     ]
    }
   ],
   "source": [
    "n = int(input())\n",
    "\n",
    "factor = True\n",
    "for i in range(2,n):\n",
    "    if n%i == 0:\n",
    "        factor=False\n",
    "if factor:\n",
    "    print('prime')\n",
    "else:\n",
    "    print('not prime')"
   ]
  },
  {
   "cell_type": "code",
   "execution_count": 14,
   "metadata": {},
   "outputs": [
    {
     "name": "stdout",
     "output_type": "stream",
     "text": [
      "yes\n"
     ]
    }
   ],
   "source": [
    "m = input()\n",
    "\n",
    "if m == m[::-1]:\n",
    "    print('yes')\n",
    "else:\n",
    "    print('no')"
   ]
  },
  {
   "cell_type": "markdown",
   "metadata": {},
   "source": [
    "# quera\n"
   ]
  }
 ],
 "metadata": {
  "kernelspec": {
   "display_name": "Python 3",
   "language": "python",
   "name": "python3"
  },
  "language_info": {
   "codemirror_mode": {
    "name": "ipython",
    "version": 3
   },
   "file_extension": ".py",
   "mimetype": "text/x-python",
   "name": "python",
   "nbconvert_exporter": "python",
   "pygments_lexer": "ipython3",
   "version": "3.11.7"
  }
 },
 "nbformat": 4,
 "nbformat_minor": 2
}
