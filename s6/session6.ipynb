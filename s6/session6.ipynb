{
 "cells": [
  {
   "cell_type": "markdown",
   "metadata": {},
   "source": [
    "# quera"
   ]
  },
  {
   "cell_type": "code",
   "execution_count": 4,
   "metadata": {},
   "outputs": [],
   "source": [
    "# https://quera.org/problemset/33023\n",
    "x,y = tuple(map(int,input().split()))\n",
    "matrix =[]\n",
    "\"\"\"[\n",
    "[1, 2, 4, 1],\n",
    "[7, 4, 1, 1],\n",
    "[1, 3, 2, 4],\n",
    "[1, 4, 1, 1],\n",
    "]\"\"\"\n",
    "for _ in range(x):\n",
    "    matrix.append(list(map(int,input().split())))\n"
   ]
  },
  {
   "cell_type": "code",
   "execution_count": 7,
   "metadata": {},
   "outputs": [
    {
     "name": "stdout",
     "output_type": "stream",
     "text": [
      "2\n"
     ]
    }
   ],
   "source": [
    "\n",
    "counter = 0\n",
    "for i in range(1, x-1):\n",
    "    for j in range(1, y-1):\n",
    "        if ((matrix[i][j-1] < matrix[i][j] < matrix[i-1][j] and\n",
    "             matrix[i][j+1] < matrix[i][j] < matrix[i+1][j]) or\n",
    "            (matrix[i-1][j] < matrix[i][j] < matrix[i][j-1] and\n",
    "             matrix[i+1][j] < matrix[i][j] < matrix[i][j+1])):\n",
    "            counter += 1\n",
    "print(counter)"
   ]
  },
  {
   "cell_type": "code",
   "execution_count": 11,
   "metadata": {},
   "outputs": [
    {
     "name": "stdout",
     "output_type": "stream",
     "text": [
      " _ _ _ _ _\n",
      "| | | | | |\n",
      " _ _ _ _ _\n",
      "| | | | | |\n",
      " _ _ _ _ _\n",
      "| | | | | |\n",
      " _ _ _ _ _\n",
      "| | | | | |\n",
      " _ _ _ _ _\n"
     ]
    }
   ],
   "source": [
    "# https://quera.org/problemset/209103\n",
    "\n",
    "x,y = tuple(map(int,input().split()))\n",
    "for i in range(x):\n",
    "    print(\" _\"*y)\n",
    "    print(\"| \"*y+\"|\")\n",
    "print(\" _\"*y)\n"
   ]
  },
  {
   "cell_type": "markdown",
   "metadata": {},
   "source": [
    "# dictionary\n",
    "\n",
    "- is a mutable, unordered collection of key-value pairs\n",
    "- each key is connected to a value\n",
    "- a key's value can be a hashable type, such as a string, integer, float, or tuple\n",
    "- a dictionary is wrapped in braces, {}, with a series of key-value pairs inside the braces, as shown in the earlier example\n",
    "- a key-value pair is a set of values associated with each other\n"
   ]
  },
  {
   "cell_type": "code",
   "execution_count": 1,
   "metadata": {},
   "outputs": [],
   "source": [
    "students = {\n",
    "    1: {\n",
    "        'name': 'keivan',\n",
    "        'last name': 'roosta',\n",
    "        'age': 26,\n",
    "        'status': [True, True, True, True, True, True]\n",
    "    },\n",
    "    2: {\n",
    "        'name': 'bizhan',\n",
    "        'last name': 'ahmadi',\n",
    "        'age': 22,\n",
    "        'status': [True, True, True, True, True, True]\n",
    "    }\n",
    "}\n"
   ]
  },
  {
   "cell_type": "code",
   "execution_count": 5,
   "metadata": {},
   "outputs": [],
   "source": [
    "students[3] = {\n",
    "        'name': 'alireza',\n",
    "        'last name': 'tofighi',\n",
    "        'age': 17,\n",
    "        'status': [True, True, True, True, True, True],\n",
    "        'score':30\n",
    "}\n",
    "students[2]['name']='bijan'\n"
   ]
  },
  {
   "cell_type": "code",
   "execution_count": 12,
   "metadata": {},
   "outputs": [
    {
     "name": "stdout",
     "output_type": "stream",
     "text": [
      "1\n",
      "\t name\n",
      "\t\t keivan\n",
      "\t last name\n",
      "\t\t roosta\n",
      "\t age\n",
      "\t\t 26\n",
      "\t status\n",
      "\t\t [True, True, True, True, True, True]\n",
      "2\n",
      "\t name\n",
      "\t\t bijan\n",
      "\t last name\n",
      "\t\t ahmadi\n",
      "\t age\n",
      "\t\t 22\n",
      "\t status\n",
      "\t\t [True, True, True, True, True, True]\n",
      "3\n",
      "\t name\n",
      "\t\t alireza\n",
      "\t last name\n",
      "\t\t tofighi\n",
      "\t age\n",
      "\t\t 17\n",
      "\t status\n",
      "\t\t [True, True, True, True, True, True]\n",
      "\t score\n",
      "\t\t 30\n"
     ]
    }
   ],
   "source": [
    "# print(students.keys())\n",
    "for i in students.keys():\n",
    "    print(i)\n",
    "    for j in students[i].keys():\n",
    "        print('\\t',j)\n",
    "        print(\"\\t\\t\",students[i][j])"
   ]
  },
  {
   "cell_type": "code",
   "execution_count": 13,
   "metadata": {},
   "outputs": [
    {
     "name": "stdout",
     "output_type": "stream",
     "text": [
      "dict_values([{'name': 'keivan', 'last name': 'roosta', 'age': 26, 'status': [True, True, True, True, True, True]}, {'name': 'bijan', 'last name': 'ahmadi', 'age': 22, 'status': [True, True, True, True, True, True]}, {'name': 'alireza', 'last name': 'tofighi', 'age': 17, 'status': [True, True, True, True, True, True], 'score': 30}])\n"
     ]
    }
   ],
   "source": [
    "print(students.values())"
   ]
  },
  {
   "cell_type": "code",
   "execution_count": 16,
   "metadata": {},
   "outputs": [
    {
     "name": "stdout",
     "output_type": "stream",
     "text": [
      "1\n",
      "\t {'name': 'keivan', 'last name': 'roosta', 'age': 26, 'status': [True, True, True, True, True, True]}\n",
      "2\n",
      "\t {'name': 'bijan', 'last name': 'ahmadi', 'age': 22, 'status': [True, True, True, True, True, True]}\n",
      "3\n",
      "\t {'name': 'alireza', 'last name': 'tofighi', 'age': 17, 'status': [True, True, True, True, True, True], 'score': 30}\n"
     ]
    }
   ],
   "source": [
    "for i,j in students.items():\n",
    "    print(i)\n",
    "    print('\\t',j)"
   ]
  },
  {
   "cell_type": "code",
   "execution_count": 20,
   "metadata": {},
   "outputs": [
    {
     "name": "stdout",
     "output_type": "stream",
     "text": [
      "{'name': 'alireza', 'last name': 'tofighi', 'age': 17, 'status': [True, True, True, True, True, True], 'score': 30}\n",
      "None\n"
     ]
    }
   ],
   "source": [
    "print(students.get(3))\n",
    "print(students.get(4))"
   ]
  },
  {
   "cell_type": "markdown",
   "metadata": {},
   "source": [
    "\n",
    "## define and accessing values in a dictionary\n",
    "\n",
    "- to get the value associated with a key, give the name of the dictionary and then place the key inside a set of square brackets, as shown here:\n",
    "\n",
    "\n"
   ]
  },
  {
   "cell_type": "code",
   "execution_count": 7,
   "metadata": {},
   "outputs": [
    {
     "name": "stdout",
     "output_type": "stream",
     "text": [
      "{'Ali': 'green', 'hassan': 'yellow'}\n",
      "green\n"
     ]
    }
   ],
   "source": [
    "favColor = {'Ali': 'green'}\n",
    "favColor['hassan']= 'yellow'\n",
    "print(favColor)\n",
    "print(favColor['Ali'])\n",
    "# print(favColor['ali']) #! error \n"
   ]
  },
  {
   "cell_type": "code",
   "execution_count": 1,
   "metadata": {},
   "outputs": [
    {
     "data": {
      "text/plain": [
       "{True: 'ali'}"
      ]
     },
     "execution_count": 1,
     "metadata": {},
     "output_type": "execute_result"
    }
   ],
   "source": [
    "{True:'ali'}"
   ]
  },
  {
   "cell_type": "markdown",
   "metadata": {},
   "source": [
    "## dictionary methods\n",
    "\n",
    "- clear() : removes all key-value pairs from the dictionary\n",
    "- copy() : returns a copy of the dictionary\n",
    "- fromkeys() : creates a new dictionary with the specified keys and values\n",
    "- get() : returns the value associated with a key\n",
    "- keys() : returns a list of keys in a dictionary\n",
    "- values() : returns a list of values in a dictionary\n",
    "- items() : returns a list of key-value pairs in a dictionary\n",
    "- pop() : removes and returns a key-value pair from the dictionary\n",
    "- popitem() : removes and returns an arbitrary key-value pair from the dictionary\n",
    "- setdefault() : returns the value associated with a key; if the key does not exist, the method adds the key and the value to the dictionary\n",
    "- update() : updates the dictionary with the key-value pairs from another dictionary or from an iterable of key-value pairs\n"
   ]
  },
  {
   "cell_type": "code",
   "execution_count": 27,
   "metadata": {},
   "outputs": [
    {
     "name": "stdout",
     "output_type": "stream",
     "text": [
      "{'a': 1, 'b': 2, 'c': 3, 'd': 4, 'e': 5, 'f': 6, 'g': 7}\n",
      "1\n",
      "('g', 7)\n",
      "{'a': 8, 'b': 8, 'c': 8}\n",
      "{'a': 1, 'b': 2, 'c': 3, 'd': 4, 'e': 5, 'f': 6}\n"
     ]
    }
   ],
   "source": [
    "aDict = {'a': 1, 'b': 2, 'c': 3, 'd': 4, 'e': 5,'f': 6}\n",
    "aDict.update({'g': 7})\n",
    "print(aDict)\n",
    "print(aDict.setdefault('a', 8))\n",
    "print(aDict.popitem())\n",
    "print(aDict.fromkeys(('a', 'b', 'c'), 8))\n",
    "\n",
    "print(aDict)"
   ]
  },
  {
   "cell_type": "markdown",
   "metadata": {},
   "source": [
    "# sets\n",
    "\n",
    "- is a mutable, unordered collection of unique elements\n",
    "  \n",
    "\n",
    "## define and accessing values in a set\n",
    "\n",
    "- to create a set, use curly braces, {}, with the elements inside the braces\n",
    "- to access a value in a set, use the same syntax as for lists and tuples\n"
   ]
  },
  {
   "cell_type": "code",
   "execution_count": 2,
   "metadata": {},
   "outputs": [
    {
     "name": "stdout",
     "output_type": "stream",
     "text": [
      "{1, 2, 3, 4, 5, 6, 7, 8, 9}\n",
      "{1, 3, 4, 5, 6, 7, 8, 9, 'Ali'}\n"
     ]
    }
   ],
   "source": [
    "set1 = {1, 2, 3, 2, 2, 2, 4, 5, 6, 7, 8, 9}\n",
    "print(set1)\n",
    "set1.add('Ali')\n",
    "set1.remove(2)\n",
    "# set1.add([1,2,3]) #! error: just hshable data types \n",
    "#* hshable data types: int, float, str, tuple, bool\n",
    "print(set1)\n"
   ]
  },
  {
   "cell_type": "markdown",
   "metadata": {},
   "source": [
    "## set methods\n",
    "\n",
    "- add() : adds an element to a set\n",
    "- clear() : removes all elements from a set\n",
    "- copy() : returns a copy of a set\n",
    "- difference() : returns the difference between two sets\n",
    "- difference_update() : removes all elements of another set from a set\n",
    "- discard() : removes an element from a set if it is a member; if the element is not a member, the set remains unchanged\n",
    "- intersection() : returns the intersection of two sets\n",
    "- intersection_update() : returns the intersection of two sets as an update\n",
    "- isdisjoint() : returns True if two sets have a null intersection\n",
    "- issubset() : returns True if another set contains this set\n",
    "- issuperset() : returns True if this set contains another set\n",
    "- pop() : removes and returns an arbitrary element from a set\n",
    "- remove() : removes an element from a set; if the element is not a member, a KeyError is raised\n",
    "- symmetric_difference() : returns the symmetric difference of two sets\n",
    "- symmetric_difference_update() : returns the symmetric difference of two sets as an update\n",
    "- union() : returns the union of two sets\n",
    "- update() : updates a set with the union of itself and others\n",
    "  "
   ]
  },
  {
   "cell_type": "code",
   "execution_count": 3,
   "metadata": {},
   "outputs": [
    {
     "name": "stdout",
     "output_type": "stream",
     "text": [
      "No\n",
      "No\n",
      "No\n",
      "No\n"
     ]
    }
   ],
   "source": [
    "# quera : https://quera.org/problemset/10327\n",
    "\n",
    "inp = input().split()\n",
    "n = int(inp[0])\n",
    "basecode = set(inp[1])\n",
    "codes = []\n",
    "for _ in range(n):\n",
    "    codes.append(input())\n",
    "for code in codes:\n",
    "    if set(code) == basecode:\n",
    "        print('Yes')\n",
    "    else:\n",
    "        print('No')"
   ]
  }
 ],
 "metadata": {
  "kernelspec": {
   "display_name": "Python 3",
   "language": "python",
   "name": "python3"
  },
  "language_info": {
   "codemirror_mode": {
    "name": "ipython",
    "version": 3
   },
   "file_extension": ".py",
   "mimetype": "text/x-python",
   "name": "python",
   "nbconvert_exporter": "python",
   "pygments_lexer": "ipython3",
   "version": "3.11.7"
  }
 },
 "nbformat": 4,
 "nbformat_minor": 2
}
