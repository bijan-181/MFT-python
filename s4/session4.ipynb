{
 "cells": [
  {
   "cell_type": "markdown",
   "metadata": {},
   "source": [
    "# built-in function\n",
    "\n",
    "- `abs()` - returns absolute value of a number\n",
    "- `min()` - returns the smallest value among the arguments\n",
    "- `max()` - returns the largest value among the arguments\n",
    "- `sum()` - returns the sum of all items in an iterable\n",
    "- `round()` - rounds a floating-point value to the nearest integer\n",
    "- `pow()` - returns the power of a number\n",
    "- `len()` - returns the length of an object\n",
    "- `sorted()` - returns a sorted list of the specified iterable object\n",
    "- `reversed()` - returns a reversed iterator object\n",
    "- `ord()` - returns an integer representing the Unicode character\n",
    "- `chr()` - returns a character (a string) from an integer (represents unicode code point of the character)\n",
    "- `enumerate()` - returns an enumerate object\n",
    "- `zip()` - returns an iterator of tuples\n",
    "- `map()` - applies a function to all the items in an input_list"
   ]
  },
  {
   "cell_type": "markdown",
   "metadata": {},
   "source": [
    "## `map()` example"
   ]
  },
  {
   "cell_type": "code",
   "execution_count": 42,
   "metadata": {},
   "outputs": [
    {
     "data": {
      "text/plain": [
       "[1, 2, 3, 4]"
      ]
     },
     "execution_count": 42,
     "metadata": {},
     "output_type": "execute_result"
    }
   ],
   "source": [
    "lstint= ['1','2','3','4']\n",
    "list(map(int,lstint))"
   ]
  },
  {
   "cell_type": "code",
   "execution_count": 45,
   "metadata": {},
   "outputs": [
    {
     "name": "stdout",
     "output_type": "stream",
     "text": [
      "[1, 4] [1, 2] [4, 4]\n"
     ]
    }
   ],
   "source": [
    "ras1 = input()\n",
    "ras2 = input()\n",
    "ras3 = input()\n",
    "t1 = list(map(int,ras1.split()))\n",
    "t2 = list(map(int,ras2.split()))\n",
    "t3 = list(map(int,ras3.split()))\n",
    "print(t1,t2,t3)"
   ]
  },
  {
   "cell_type": "code",
   "execution_count": 44,
   "metadata": {},
   "outputs": [
    {
     "name": "stdout",
     "output_type": "stream",
     "text": [
      "[1, 2, 3, 4, 5]\n"
     ]
    }
   ],
   "source": [
    "s = '1 2 3 4 5'.split()\n",
    "s = list(map(int,s))\n",
    "print(s)"
   ]
  },
  {
   "cell_type": "markdown",
   "metadata": {},
   "source": [
    "## `enumerate()` example"
   ]
  },
  {
   "cell_type": "code",
   "execution_count": 39,
   "metadata": {},
   "outputs": [
    {
     "name": "stdout",
     "output_type": "stream",
     "text": [
      "['sib', 'khiar', 'mooz'] ['poteghal', 'narengi']\n"
     ]
    }
   ],
   "source": [
    "fruits = ['sib','poteghal','khiar','narengi','mooz']\n",
    "zoj , fard = [],[]\n",
    "for i,j in enumerate(fruits):\n",
    "    if i %2==0:\n",
    "        zoj.append(j)\n",
    "    else:\n",
    "        fard.append(j)\n",
    "print(zoj,fard)"
   ]
  },
  {
   "cell_type": "markdown",
   "metadata": {},
   "source": [
    "## `zip()` example"
   ]
  },
  {
   "cell_type": "code",
   "execution_count": 30,
   "metadata": {},
   "outputs": [
    {
     "name": "stdout",
     "output_type": "stream",
     "text": [
      "['ali', 'mohammad', 'hassan', 'amir', 'javd'] [25, 41, 15, 36, 24]\n"
     ]
    }
   ],
   "source": [
    "names = ['ali', 'mohammad', 'hassan', 'amir', 'javd']\n",
    "ages = [25, 41, 15, 36, 24]\n",
    "\n",
    "print(names,ages)"
   ]
  },
  {
   "cell_type": "code",
   "execution_count": 31,
   "metadata": {},
   "outputs": [
    {
     "data": {
      "text/plain": [
       "[('ali', 25), ('mohammad', 41), ('hassan', 15), ('amir', 36), ('javd', 24)]"
      ]
     },
     "execution_count": 31,
     "metadata": {},
     "output_type": "execute_result"
    }
   ],
   "source": [
    "list(zip(names,ages))"
   ]
  },
  {
   "cell_type": "code",
   "execution_count": 33,
   "metadata": {},
   "outputs": [
    {
     "name": "stdout",
     "output_type": "stream",
     "text": [
      "hi my name is ali, and i am 25 yo.\n",
      "hi my name is mohammad, and i am 41 yo.\n",
      "hi my name is hassan, and i am 15 yo.\n",
      "hi my name is amir, and i am 36 yo.\n",
      "hi my name is javd, and i am 24 yo.\n"
     ]
    }
   ],
   "source": [
    "for i in zip(names,ages):\n",
    "    print(f\"hi my name is {i[0]}, and i am {i[1]} yo.\")"
   ]
  },
  {
   "cell_type": "markdown",
   "metadata": {},
   "source": [
    "## other built-in functions"
   ]
  },
  {
   "cell_type": "code",
   "execution_count": 18,
   "metadata": {},
   "outputs": [
    {
     "data": {
      "text/plain": [
       "25"
      ]
     },
     "execution_count": 18,
     "metadata": {},
     "output_type": "execute_result"
    }
   ],
   "source": [
    "pow(5,2)"
   ]
  },
  {
   "cell_type": "code",
   "execution_count": 17,
   "metadata": {},
   "outputs": [
    {
     "data": {
      "text/plain": [
       "3.25988"
      ]
     },
     "execution_count": 17,
     "metadata": {},
     "output_type": "execute_result"
    }
   ],
   "source": [
    "round(3.2598789465,5)"
   ]
  },
  {
   "cell_type": "code",
   "execution_count": 16,
   "metadata": {},
   "outputs": [
    {
     "ename": "TypeError",
     "evalue": "unsupported operand type(s) for +: 'int' and 'str'",
     "output_type": "error",
     "traceback": [
      "\u001b[0;31m---------------------------------------------------------------------------\u001b[0m",
      "\u001b[0;31mTypeError\u001b[0m                                 Traceback (most recent call last)",
      "Cell \u001b[0;32mIn[16], line 1\u001b[0m\n\u001b[0;32m----> 1\u001b[0m \u001b[38;5;28;43msum\u001b[39;49m\u001b[43m(\u001b[49m\u001b[43m[\u001b[49m\u001b[38;5;124;43m'\u001b[39;49m\u001b[38;5;124;43m2\u001b[39;49m\u001b[38;5;124;43m'\u001b[39;49m\u001b[43m,\u001b[49m\u001b[38;5;124;43m'\u001b[39;49m\u001b[38;5;124;43m5\u001b[39;49m\u001b[38;5;124;43m'\u001b[39;49m\u001b[43m,\u001b[49m\u001b[38;5;124;43m'\u001b[39;49m\u001b[38;5;124;43m7\u001b[39;49m\u001b[38;5;124;43m'\u001b[39;49m\u001b[43m,\u001b[49m\u001b[38;5;124;43m'\u001b[39;49m\u001b[38;5;124;43m4\u001b[39;49m\u001b[38;5;124;43m'\u001b[39;49m\u001b[43m,\u001b[49m\u001b[38;5;124;43m'\u001b[39;49m\u001b[38;5;124;43m8\u001b[39;49m\u001b[38;5;124;43m'\u001b[39;49m\u001b[43m,\u001b[49m\u001b[38;5;124;43m'\u001b[39;49m\u001b[38;5;124;43m9\u001b[39;49m\u001b[38;5;124;43m'\u001b[39;49m\u001b[43m,\u001b[49m\u001b[38;5;124;43m'\u001b[39;49m\u001b[38;5;124;43m6\u001b[39;49m\u001b[38;5;124;43m'\u001b[39;49m\u001b[43m]\u001b[49m\u001b[43m)\u001b[49m\n",
      "\u001b[0;31mTypeError\u001b[0m: unsupported operand type(s) for +: 'int' and 'str'"
     ]
    }
   ],
   "source": [
    "sum([2,5,7,4,8,9,6])"
   ]
  },
  {
   "cell_type": "code",
   "execution_count": 5,
   "metadata": {},
   "outputs": [
    {
     "data": {
      "text/plain": [
       "65"
      ]
     },
     "execution_count": 5,
     "metadata": {},
     "output_type": "execute_result"
    }
   ],
   "source": [
    "ord('A')"
   ]
  },
  {
   "cell_type": "code",
   "execution_count": 8,
   "metadata": {},
   "outputs": [
    {
     "data": {
      "text/plain": [
       "90"
      ]
     },
     "execution_count": 8,
     "metadata": {},
     "output_type": "execute_result"
    }
   ],
   "source": [
    "ord('Z')"
   ]
  },
  {
   "cell_type": "code",
   "execution_count": 14,
   "metadata": {},
   "outputs": [
    {
     "name": "stdout",
     "output_type": "stream",
     "text": [
      "90 Z\n",
      "91 [\n",
      "92 \\\n",
      "93 ]\n",
      "94 ^\n",
      "95 _\n",
      "96 `\n"
     ]
    }
   ],
   "source": [
    "for i in range(90,97):\n",
    "    print(i,chr(i))"
   ]
  },
  {
   "cell_type": "code",
   "execution_count": 6,
   "metadata": {},
   "outputs": [
    {
     "data": {
      "text/plain": [
       "97"
      ]
     },
     "execution_count": 6,
     "metadata": {},
     "output_type": "execute_result"
    }
   ],
   "source": [
    "ord('a')"
   ]
  },
  {
   "cell_type": "code",
   "execution_count": 4,
   "metadata": {},
   "outputs": [
    {
     "data": {
      "text/plain": [
       "'A'"
      ]
     },
     "execution_count": 4,
     "metadata": {},
     "output_type": "execute_result"
    }
   ],
   "source": [
    "min(['g','a','A'])"
   ]
  },
  {
   "cell_type": "markdown",
   "metadata": {},
   "source": [
    "# Tuples\n",
    "\n",
    "- Tuples are immutable: Once a tuple is created, its elements cannot be changed or modified.\n",
    "- Tuples are ordered: The order of elements in a tuple is preserved, and elements can be accessed by their index.\n",
    "- Tuples can contain different data types: Unlike arrays in some other languages, tuples in Python can store elements of different data types.\n",
    "- Tuples can be nested: You can have tuples within tuples, creating nested structures.\n",
    "- Tuples can be accessed by index: Elements in a tuple are accessed using their index, starting from 0 for the first element.\n",
    "- Tuples can be sliced: You can extract a portion of a tuple using slicing notation, creating a new tuple.\n",
    "- Tuples can be unpacked: You can easily assign the elements of a tuple to individual variables using tuple unpacking.\n",
    "- Tuples can be compared: Tuples support comparison operations, allowing you to determine their relative order.\n",
    "\n",
    "## How define it?\n",
    "\n",
    "- `variable = (elemnt1, elemnt2, elemnt3, ...)`\n",
    "- `variable = tuple('some iterable item')`"
   ]
  },
  {
   "cell_type": "code",
   "execution_count": null,
   "metadata": {},
   "outputs": [],
   "source": [
    "tuple1 = (1,2,3,4,5,6,7,8,9,10)\n",
    "# tuple methods\n",
    "tuple1.count(1)\n",
    "tuple1.index(3)\n"
   ]
  },
  {
   "cell_type": "markdown",
   "metadata": {},
   "source": [
    "# while loop\n",
    "\n",
    "- `while condition:`\n",
    "- `while condition: else:`\n",
    "- `while condition: break` \n",
    "- `while condition: continue`\n",
    "\n",
    "## break & continue & pass\n",
    "\n",
    "- `break` - breaks out of the innermost enclosing `for` or `while` loop.\n",
    "- `continue` - continues with the next iteration of the loop.\n",
    "- `pass` - does nothing, it can be used when a statement is required syntactically but the program requires no action."
   ]
  },
  {
   "cell_type": "code",
   "execution_count": 3,
   "metadata": {},
   "outputs": [
    {
     "name": "stdout",
     "output_type": "stream",
     "text": [
      "0\n",
      "1\n",
      "2\n",
      "3\n",
      "4\n",
      "5\n",
      "6\n",
      "7\n",
      "8\n",
      "9\n"
     ]
    }
   ],
   "source": [
    "for i in range(10):\n",
    "    if i == 4:\n",
    "        pass\n",
    "    print(i)"
   ]
  },
  {
   "cell_type": "code",
   "execution_count": null,
   "metadata": {},
   "outputs": [],
   "source": [
    "n = int(input())\n",
    "factor = 0\n",
    "for i in range(2,n):\n",
    "    if n%i ==0:\n",
    "        factor+=1\n",
    "        break\n",
    "if factor == 1:\n",
    "    print('not prime')\n",
    "else:\n",
    "    print('prime')"
   ]
  },
  {
   "cell_type": "markdown",
   "metadata": {},
   "source": [
    "# what is hashing?\n",
    "\n",
    "- hashing is a way to assign a unique identifier to a value.\n",
    "- the hash function takes a value and returns an integer.\n",
    "- the hash function is deterministic, meaning that it will always return the same integer for the same value.\n",
    "- the hash function is consistent, meaning that if the hash function returns the same value for two values, then those two values are equal.\n",
    "- the hash function is one-way, meaning that it is not possible to get the original value from the hash.\n",
    "- the hash function is uniform, meaning that the hash function will return a value between 0 and some maximum value.\n",
    "- the hash function is efficient, meaning that it is fast to compute the hash value for any given value.\n"
   ]
  },
  {
   "cell_type": "code",
   "execution_count": null,
   "metadata": {},
   "outputs": [],
   "source": []
  },
  {
   "cell_type": "markdown",
   "metadata": {},
   "source": [
    "# import and use modules\n",
    "\n",
    "- `import module_name` - imports a module\n",
    "- `import module_name as mn` - imports a module and gives it an alias\n",
    "- `from module_name import function_name` - imports a function from a module\n",
    "- `from module_name import function_name as fn, function_name as fn2` - imports multiple functions from a module and gives them aliases\n",
    "- `from module_name import *` - imports all functions from a module\n"
   ]
  },
  {
   "cell_type": "code",
   "execution_count": 5,
   "metadata": {},
   "outputs": [],
   "source": [
    "from hashlib import md5"
   ]
  },
  {
   "cell_type": "markdown",
   "metadata": {},
   "source": [
    "password = \"123\"\n",
    "hashpass = md5(password.encode()) #! 202cb962ac59075b964b07152d234b70\n",
    "print(hashpass.hexdigest())\n"
   ]
  },
  {
   "cell_type": "code",
   "execution_count": 7,
   "metadata": {},
   "outputs": [
    {
     "name": "stdout",
     "output_type": "stream",
     "text": [
      "password hash:\t\t 202cb962ac59075b964b07152d234b70 \n",
      "entered password hash:\t 250cf8b51c773f3f8dc8b4be867a9a02\n",
      "Password is incorrect\n"
     ]
    }
   ],
   "source": [
    "entered_password = input(\"Enter password: \")\n",
    "entered_hashpass = md5(entered_password.encode()).hexdigest()\n",
    "print(f\"password hash:\\t\\t {hashpass} \\nentered password hash:\\t {entered_hashpass}\")\n",
    "if hashpass == entered_hashpass:\n",
    "    print(\"Password is correct\")\n",
    "else:\n",
    "    print(\"Password is incorrect\")"
   ]
  },
  {
   "cell_type": "markdown",
   "metadata": {},
   "source": [
    "# example?\n",
    "\n",
    "- write a code to get username and password from user and check if the password is correct or not.\n",
    "\n",
    "\n",
    "- write a code to get a number from user and check if it is prime or not.\n",
    "- write a code to get a number from user and check if it is palindrome or not."
   ]
  },
  {
   "cell_type": "code",
   "execution_count": null,
   "metadata": {},
   "outputs": [],
   "source": []
  },
  {
   "cell_type": "markdown",
   "metadata": {},
   "source": [
    "# Git\n",
    "\n",
    "- `git init` - initializes a new git repository\n",
    "- `git status` - shows the status of the working tree\n",
    "- `git add <file>` - adds a file to the staging area\n",
    "- `git add .` - adds all files to the staging area\n",
    "- `git commit -m \"message\"` - commits changes to local repository\n",
    "- `git log` - shows the commit history\n",
    "- `git push origin <branch>` - pushes changes to remote repository\n",
    "- `git pull origin <branch>` - pulls changes from remote repository\n",
    "- `git clone <url>` - clones a repository from a remote to a local directory\n",
    "- `git branch` - shows the branches in the repository\n",
    "- `git checkout <branch>` - switches to a branch\n",
    "- `git merge <branch>` - merges a branch into the current branch"
   ]
  },
  {
   "cell_type": "code",
   "execution_count": null,
   "metadata": {},
   "outputs": [],
   "source": []
  }
 ],
 "metadata": {
  "kernelspec": {
   "display_name": "Python 3",
   "language": "python",
   "name": "python3"
  },
  "language_info": {
   "codemirror_mode": {
    "name": "ipython",
    "version": 3
   },
   "file_extension": ".py",
   "mimetype": "text/x-python",
   "name": "python",
   "nbconvert_exporter": "python",
   "pygments_lexer": "ipython3",
   "version": "3.11.7"
  }
 },
 "nbformat": 4,
 "nbformat_minor": 2
}
