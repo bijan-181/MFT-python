{
 "cells": [
  {
   "cell_type": "code",
   "execution_count": 15,
   "metadata": {},
   "outputs": [
    {
     "name": "stdout",
     "output_type": "stream",
     "text": [
      "* * * * * * * * * * \n",
      "*                 *\n",
      "*                 *\n",
      "*                 *\n",
      "* * * * * * * * * * \n"
     ]
    }
   ],
   "source": [
    "n = 5\n",
    "m = 10\n",
    "for i in range(n):\n",
    "    if i == 0 or i == n-1:\n",
    "        print('* '*m)\n",
    "    else:\n",
    "        print(\"* \"+'  '*(m-2)+'*')\n",
    "    # for j in range(m):\n",
    "    #     if j == 0 or j == m-1:\n",
    "    #         print('* ', end='')\n",
    "    #     else:\n",
    "    #         print('  ', end='')"
   ]
  },
  {
   "cell_type": "code",
   "execution_count": 16,
   "metadata": {},
   "outputs": [
    {
     "name": "stdout",
     "output_type": "stream",
     "text": [
      "0\n",
      "1\n",
      "1\n",
      "2\n",
      "3\n",
      "5\n"
     ]
    }
   ],
   "source": [
    "num = 6\n",
    "a, b = 0, 1\n",
    "print(a)\n",
    "print(b)\n",
    "for _ in range(num-2):\n",
    "    print(a+b)\n",
    "    a, b = b, a+b"
   ]
  }
 ],
 "metadata": {
  "kernelspec": {
   "display_name": "Python 3",
   "language": "python",
   "name": "python3"
  },
  "language_info": {
   "codemirror_mode": {
    "name": "ipython",
    "version": 3
   },
   "file_extension": ".py",
   "mimetype": "text/x-python",
   "name": "python",
   "nbconvert_exporter": "python",
   "pygments_lexer": "ipython3",
   "version": "3.11.7"
  }
 },
 "nbformat": 4,
 "nbformat_minor": 2
}
