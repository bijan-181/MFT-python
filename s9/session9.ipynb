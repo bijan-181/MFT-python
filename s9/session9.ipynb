{
 "cells": [
  {
   "cell_type": "markdown",
   "metadata": {},
   "source": [
    "# use file in python\n",
    "\n",
    "## open file\n",
    "\n",
    "#### open(file, mode='r', buffering=-1, encoding=None, errors=None, newline=None, closefd=True, opener=None)\n",
    "- file: file path\n",
    "- mode: r, w, a, x, rb, wb, ab, r+, w+, a+, rb+, wb+, ab+\n",
    "  - r: read, default, if file not exist, raise FileNotFoundError\n",
    "  - w: write, if file exist, clear content, if not exist, create\n",
    "  - a: append, if file exist, write at the end, if not exist, create\n",
    "  - x: create, if file exist, raise FileExistsError, if not exist, create\n",
    "  - r+: read and write\n",
    "  - w+: write and read\n",
    "  - a+: append and read\n",
    "- buffering: 0, 1, -1\n",
    "- encoding: utf-8, gbk, gb2312, ...\n",
    "- errors: strict, ignore, replace, ...\n",
    "- newline: None, '', '\\n', '\\r', '\\r\\n'\n",
    "- closefd: True, False\n",
    "- opener: None, open"
   ]
  },
  {
   "cell_type": "code",
   "execution_count": 20,
   "metadata": {},
   "outputs": [],
   "source": [
    "text =\"\"\"ali\\tmohamadi\n",
    "bijan12\\tahmadi\"\"\"\n",
    "\n",
    "f = open('input.txt', 'w')\n",
    "f.write(text)\n",
    "f.close()"
   ]
  },
  {
   "cell_type": "code",
   "execution_count": 3,
   "metadata": {},
   "outputs": [
    {
     "name": "stdout",
     "output_type": "stream",
     "text": [
      "ali\tm\n"
     ]
    }
   ],
   "source": [
    "f = open('input.txt','r')\n",
    "print(f.read(5))"
   ]
  },
  {
   "cell_type": "code",
   "execution_count": 4,
   "metadata": {},
   "outputs": [
    {
     "data": {
      "text/plain": [
       "'ohamadi\\nbijan12\\tahmadi'"
      ]
     },
     "execution_count": 4,
     "metadata": {},
     "output_type": "execute_result"
    }
   ],
   "source": [
    "f.read()"
   ]
  },
  {
   "cell_type": "markdown",
   "metadata": {},
   "source": [
    "## read file\n",
    "\n",
    "#### read(size=-1): read all content\n",
    "- size: read size, default -1, read all\n",
    "- return: str\n",
    "\n",
    "#### readline(size=-1): read one line\n",
    "- size: read size, default -1, read all\n",
    "- return: str\n",
    "\n",
    "#### readlines(hint=-1): read all lines\n",
    "- hint: read size, default -1, read all\n",
    "- return: list\n"
   ]
  },
  {
   "cell_type": "code",
   "execution_count": 14,
   "metadata": {},
   "outputs": [
    {
     "name": "stdout",
     "output_type": "stream",
     "text": [
      "{\n",
      "    \"1\": {\n",
      "        \"name\": \"John\",\n"
     ]
    }
   ],
   "source": [
    "with open('input.json','r') as f :\n",
    "    print(f.readline(),end='')\n",
    "    print(f.readline(),end='')\n",
    "    print(f.readline(),end='')"
   ]
  },
  {
   "cell_type": "code",
   "execution_count": 17,
   "metadata": {},
   "outputs": [
    {
     "name": "stdout",
     "output_type": "stream",
     "text": [
      "{\n",
      "    \"1\": {\n",
      "        \"name\": \"John\",\n",
      "        \"age\": 30,\n",
      "        \"city\": \"New York\"\n",
      "    },\n",
      "    \"2\": {\n",
      "        \"name\": \"Jane\",\n",
      "        \"age\": 25,\n",
      "        \"city\": \"Los Angeles\"\n",
      "    },\n",
      "    \"3\": {\n",
      "        \"name\": \"Tom\",\n",
      "        \"age\": 35,\n",
      "        \"city\": \"Chicago\"\n",
      "    }\n",
      "}"
     ]
    }
   ],
   "source": [
    "with open('input.json','r') as f :\n",
    "    fl = f.readlines()\n",
    "for i in fl:\n",
    "    print(i,end='')"
   ]
  },
  {
   "cell_type": "markdown",
   "metadata": {},
   "source": [
    "## write file\n",
    "\n",
    "#### write(s): write content\n",
    "- s: str\n",
    "- return: int\n",
    "- raise: OSError"
   ]
  },
  {
   "cell_type": "code",
   "execution_count": 21,
   "metadata": {},
   "outputs": [],
   "source": [
    "with open('input.txt','a') as f :\n",
    "    f.write('\\namir\\tashiri')"
   ]
  },
  {
   "cell_type": "markdown",
   "metadata": {},
   "source": [
    "# JSON\n",
    "\n",
    "## What is JSON?\n",
    "- JSON stands for JavaScript Object Notation\n",
    "\n",
    "```json\n",
    "{\n",
    "  \"name\": \"John\",\n",
    "  \"age\": 30,\n",
    "  \"cars\": {\n",
    "    \"car1\": \"Ford\",\n",
    "    \"car2\": \"BMW\",\n",
    "    \"car3\": \"Fiat\"\n",
    "  },\n",
    "  \"friends\": [\"Anna\", \"Bobby\", \"Carl\"]\n",
    "}\n",
    "```\n",
    "\n",
    "## JSON in Python\n",
    "\n",
    "- Python has a built-in package called `json`, which can be used to work with JSON data.\n"
   ]
  },
  {
   "cell_type": "code",
   "execution_count": 15,
   "metadata": {},
   "outputs": [],
   "source": [
    "import json"
   ]
  },
  {
   "cell_type": "markdown",
   "metadata": {},
   "source": [
    "# JSON library in Python\n",
    "\n"
   ]
  },
  {
   "cell_type": "markdown",
   "metadata": {},
   "source": [
    "### json.dumps() : This method is used to convert a Python object into a JSON string."
   ]
  },
  {
   "cell_type": "code",
   "execution_count": 16,
   "metadata": {},
   "outputs": [
    {
     "name": "stdout",
     "output_type": "stream",
     "text": [
      "{\n",
      "    \"1\": {\n",
      "        \"name\": \"John\",\n",
      "        \"age\": 30,\n",
      "        \"city\": \"New York\"\n",
      "    },\n",
      "    \"2\": {\n",
      "        \"name\": \"Jane\",\n",
      "        \"age\": 25,\n",
      "        \"city\": \"Los Angeles\"\n",
      "    },\n",
      "    \"3\": {\n",
      "        \"name\": \"Tom\",\n",
      "        \"age\": 35,\n",
      "        \"city\": \"Chicago\"\n",
      "    }\n",
      "}\n"
     ]
    }
   ],
   "source": [
    "dictionary = {\n",
    "    1 : {\n",
    "        'name' : \"John\",\n",
    "        \"age\" : 30,\n",
    "        \"city\" : 'New York'\n",
    "    },\n",
    "    2 : {\n",
    "        \"name\" : \"Jane\",\n",
    "        \"age\" : 25,\n",
    "        \"city\" : \"Los Angeles\"\n",
    "    },\n",
    "    3 : {\n",
    "        \"name\" : \"Tom\",\n",
    "        \"age\" : 35,\n",
    "        \"city\" : \"Chicago\"\n",
    "    }\n",
    "}\n",
    "\n",
    "json_string = json.dumps(dictionary, indent=4)\n",
    "print(json_string)"
   ]
  },
  {
   "cell_type": "markdown",
   "metadata": {},
   "source": [
    "### json.dump() : This method is used to write a JSON object to a file."
   ]
  },
  {
   "cell_type": "code",
   "execution_count": 17,
   "metadata": {},
   "outputs": [],
   "source": [
    "with open('input.json', 'w') as f:\n",
    "    json.dump(dictionary, f, indent=4)"
   ]
  },
  {
   "cell_type": "markdown",
   "metadata": {},
   "source": [
    "### json.loads() : This method is used to convert a JSON string into a Python object."
   ]
  },
  {
   "cell_type": "code",
   "execution_count": 18,
   "metadata": {},
   "outputs": [
    {
     "name": "stdout",
     "output_type": "stream",
     "text": [
      "{'1': {'name': 'John', 'age': 30, 'city': 'New York'}, '2': {'name': 'Jane', 'age': 25, 'city': 'Los Angeles'}, '3': {'name': 'Tom', 'age': 35, 'city': 'Chicago'}}\n"
     ]
    }
   ],
   "source": [
    "print(json.loads(json_string))"
   ]
  },
  {
   "cell_type": "markdown",
   "metadata": {},
   "source": [
    "### json.load() : This method is used to read a JSON object from a file."
   ]
  },
  {
   "cell_type": "code",
   "execution_count": 19,
   "metadata": {},
   "outputs": [
    {
     "name": "stdout",
     "output_type": "stream",
     "text": [
      "{'1': {'name': 'John', 'age': 30, 'city': 'New York'}, '2': {'name': 'Jane', 'age': 25, 'city': 'Los Angeles'}, '3': {'name': 'Tom', 'age': 35, 'city': 'Chicago'}}\n"
     ]
    }
   ],
   "source": [
    "with open('input.json', 'r') as f:\n",
    "    data = json.load(f)\n",
    "print(data)"
   ]
  },
  {
   "cell_type": "markdown",
   "metadata": {},
   "source": [
    "# a simple program ?"
   ]
  }
 ],
 "metadata": {
  "kernelspec": {
   "display_name": "Python 3",
   "language": "python",
   "name": "python3"
  },
  "language_info": {
   "codemirror_mode": {
    "name": "ipython",
    "version": 3
   },
   "file_extension": ".py",
   "mimetype": "text/x-python",
   "name": "python",
   "nbconvert_exporter": "python",
   "pygments_lexer": "ipython3",
   "version": "3.11.7"
  }
 },
 "nbformat": 4,
 "nbformat_minor": 2
}
