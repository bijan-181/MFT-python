{
 "cells": [
  {
   "cell_type": "markdown",
   "metadata": {},
   "source": [
    "# more examples for change variable type\n",
    "\n",
    "- `int()` for change a variable type to int.\n",
    "- `str()` for change a variable type to str.\n",
    "- `float()` for change a variable type to float.\n",
    "- `bool()` for change a variable type to bool.\n",
    "- `list()` for change a variable type to list.\n",
    "- `tuple()` for change a variable type to tuple.\n",
    "- `set()` for change a variable type to set.\n",
    "- `dict()` for change a variable type to dict.\n",
    "- `complex()` for change a variable type to complex.\n",
    "- `bytes()` for change a variable type to bytes.\n",
    "- `bytearray()` for change a variable type to bytearray.\n",
    "- `memoryview()` for change a variable type to memoryview.\n"
   ]
  },
  {
   "cell_type": "code",
   "execution_count": 1,
   "metadata": {},
   "outputs": [
    {
     "name": "stdout",
     "output_type": "stream",
     "text": [
      "1.458\t->\t<class 'str'>\n",
      "1.458\t->\t<class 'float'>\n",
      "1\t->\t<class 'int'>\n",
      "True\t->\t<class 'bool'>\n"
     ]
    }
   ],
   "source": [
    "string = '1.458'\n",
    "print(string,type(string),sep='\\t->\\t')\n",
    "float_number = float(string)\n",
    "print(float_number,type(float_number),sep='\\t->\\t')\n",
    "integer_number = int(float_number)\n",
    "print(integer_number,type(integer_number),sep='\\t->\\t')\n",
    "boolean = bool(integer_number)\n",
    "print(boolean,type(boolean),sep='\\t->\\t')"
   ]
  },
  {
   "cell_type": "markdown",
   "metadata": {},
   "source": [
    "# list indexing and slicing\n",
    "\n",
    "- `list_name[index]` for get a value from list.\n",
    "- `list_name[start:end]` for get a value from list.\n",
    "- `list_name[start:end:step]` for get a value from list.\n",
    "- `list_name[start:]` for get a value from list.\n",
    "- `list_name[:end]` for get a value from list.\n",
    "- `list_name[:]` for get a value from list.\n",
    "- `list_name[-1]` for get a value from list.\n",
    "- `list_name[::-1]` reverse a list."
   ]
  },
  {
   "cell_type": "code",
   "execution_count": 5,
   "metadata": {},
   "outputs": [
    {
     "data": {
      "text/plain": [
       "[1, 3, 5, 7, 9]"
      ]
     },
     "execution_count": 5,
     "metadata": {},
     "output_type": "execute_result"
    }
   ],
   "source": [
    "my_list = [0, 1, 2, 3, 4, 5, 6, 7, 8, 9, 10]\n",
    "my_list[1::2]\n"
   ]
  },
  {
   "cell_type": "markdown",
   "metadata": {},
   "source": [
    "# exercise answer\n",
    "\n",
    "write a program that get a n from user and get n inputs from user. then add all of them to a list.\n",
    "at end pritn odd index values and even index values.\n"
   ]
  },
  {
   "cell_type": "code",
   "execution_count": 6,
   "metadata": {},
   "outputs": [
    {
     "data": {
      "text/plain": [
       "[0, 1, 2, 3, 4]"
      ]
     },
     "execution_count": 6,
     "metadata": {},
     "output_type": "execute_result"
    }
   ],
   "source": [
    "list(range(5))"
   ]
  },
  {
   "cell_type": "code",
   "execution_count": 7,
   "metadata": {},
   "outputs": [],
   "source": [
    "n = int(input('count : '))\n",
    "lst = []\n",
    "for i in range(n):\n",
    "    # a = input('enter elemnt :')\n",
    "    # lst.append(a)\n",
    "    lst.append(input('enter elemnt : '))\n"
   ]
  },
  {
   "cell_type": "code",
   "execution_count": 11,
   "metadata": {},
   "outputs": [
    {
     "name": "stdout",
     "output_type": "stream",
     "text": [
      "a c e g \n",
      "b d f h "
     ]
    }
   ],
   "source": [
    "lst1 = lst[::2]\n",
    "lst2 = lst[1::2]\n",
    "for i in lst1:\n",
    "    print(i, end=' ')\n",
    "print()\n",
    "for i in lst2:\n",
    "    print(i, end=' ')"
   ]
  },
  {
   "cell_type": "code",
   "execution_count": 12,
   "metadata": {},
   "outputs": [
    {
     "name": "stdout",
     "output_type": "stream",
     "text": [
      "a c e g \n",
      "b d f h "
     ]
    }
   ],
   "source": [
    "for i in range(0,n,2):\n",
    "    print(lst[i],end=' ')\n",
    "print()\n",
    "for i in range(1,n,2):\n",
    "    print(lst[i],end=' ')"
   ]
  },
  {
   "cell_type": "code",
   "execution_count": 18,
   "metadata": {},
   "outputs": [
    {
     "name": "stdout",
     "output_type": "stream",
     "text": [
      "1\n",
      "2\n",
      "3\n"
     ]
    }
   ],
   "source": [
    "a,b,c = (1,2,3)\n",
    "print(a)\n",
    "print(b)\n",
    "print(c)"
   ]
  },
  {
   "cell_type": "code",
   "execution_count": 19,
   "metadata": {},
   "outputs": [
    {
     "name": "stdout",
     "output_type": "stream",
     "text": [
      "(1, 2, 3)\n",
      "(1, 2, 3)\n",
      "(1, 2, 3)\n"
     ]
    }
   ],
   "source": [
    "a = b = c = (1, 2, 3)\n",
    "print(a)\n",
    "print(b)\n",
    "print(c)"
   ]
  },
  {
   "cell_type": "code",
   "execution_count": 20,
   "metadata": {},
   "outputs": [
    {
     "name": "stdout",
     "output_type": "stream",
     "text": [
      "10 5\n"
     ]
    }
   ],
   "source": [
    "a ,b= 5 ,10\n",
    "a,b = b,a\n",
    "print(a,b)"
   ]
  }
 ],
 "metadata": {
  "kernelspec": {
   "display_name": "Python 3",
   "language": "python",
   "name": "python3"
  },
  "language_info": {
   "codemirror_mode": {
    "name": "ipython",
    "version": 3
   },
   "file_extension": ".py",
   "mimetype": "text/x-python",
   "name": "python",
   "nbconvert_exporter": "python",
   "pygments_lexer": "ipython3",
   "version": "3.11.7"
  }
 },
 "nbformat": 4,
 "nbformat_minor": 2
}
