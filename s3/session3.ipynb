{
 "cells": [
  {
   "cell_type": "markdown",
   "metadata": {},
   "source": [
    "# list methods\n",
    "\n",
    "- `list.append()` - add an item to the end of the list\n",
    "- `list.extend()` - add all items of a list to the another list\n",
    "- `list.insert()` - insert an item at the defined index\n",
    "- `list.remove()`- removes an item from the list\n",
    "- `list.pop()`- removes and returns an element at the given index\n",
    "- `list.clear()`- removes all items from the list\n",
    "- `list.index()`- returns the index of the first matched item\n",
    "- `list.count()`- returns the count of number of items passed as an argument\n",
    "- `list.sort()`- sort items in a list in ascending order\n",
    "- `list.reverse()`- reverse the order of items in the list\n",
    "- `list.copy()`- returns a shallow copy of the list"
   ]
  },
  {
   "cell_type": "code",
   "execution_count": 12,
   "metadata": {},
   "outputs": [
    {
     "name": "stdout",
     "output_type": "stream",
     "text": [
      "[54, 4, 7, 8, 59, 7]\n",
      "[4, 7, 7, 8, 54, 59]\n",
      "[4, 3, 7, 8, 54, 59]\n",
      "[4, 3, 45, 7, 8, 54, 59]\n"
     ]
    }
   ],
   "source": [
    "lst = [7,59,8,7,4,54]\n",
    "lst.reverse()\n",
    "print(lst)\n",
    "lst.sort()\n",
    "print(lst)\n",
    "lst[1]=3\n",
    "print(lst)\n",
    "lst.insert(2,45)\n",
    "print(lst)\n"
   ]
  },
  {
   "cell_type": "code",
   "execution_count": 4,
   "metadata": {},
   "outputs": [
    {
     "name": "stdout",
     "output_type": "stream",
     "text": [
      "[[1, 2, 3, 7], 4, 5, 6, 7]\n",
      "[[1, 2, 3, 7], 4, 5, 6, 7]\n",
      "[[1, 2, 3, 7], 4, 5, 6]\n",
      "[[1, 2, 3, 7], 4, 5, 6]\n",
      "[1, 2, 3, 7]\n"
     ]
    }
   ],
   "source": [
    "a = [[1,2,3],4,5,6]\n",
    "b = a\n",
    "c = a[:]\n",
    "d = a.copy()\n",
    "e = a[0]\n",
    "b.append(7)\n",
    "d[0].append(7)\n",
    "print(a)\n",
    "print(b)\n",
    "print(c)\n",
    "print(d)\n",
    "print(e)"
   ]
  },
  {
   "cell_type": "markdown",
   "metadata": {},
   "source": [
    "# `range()` function\n",
    "\n",
    "- `range()` is a built-in function of Python.\n",
    "- It is used when a user needs to perform an action for a specific number of times.\n",
    "- `range()` is commonly used in `for` looping in Python.\n",
    "- `range()` generates the integer numbers between the given start integer to the stop integer, which is generally used to iterate over with for loop.\n",
    "1. `range(stop)` -> [0, 1, 2, ..., stop-1]\n",
    "2. `range(start, stop)` -> [start, start+1, start+2, ..., stop-1]\n",
    "3. `range(start, stop, step)` -> [start, start+step, start+2*step, ..., start+k*step] such that start+k*step < stop"
   ]
  },
  {
   "cell_type": "code",
   "execution_count": null,
   "metadata": {},
   "outputs": [],
   "source": []
  },
  {
   "cell_type": "markdown",
   "metadata": {},
   "source": [
    "# `for` loop introduction\n",
    "\n",
    "- `for` loop is used to iterate over a sequence (list, tuple, string) or other iterable objects.\n",
    "- Iterating over a sequence is called traversal.\n",
    "- Syntax of `for` loop:\n",
    "\n",
    "```python\n",
    "for val in sequence:\n",
    "    Body of for\n",
    "```"
   ]
  },
  {
   "cell_type": "code",
   "execution_count": null,
   "metadata": {},
   "outputs": [],
   "source": []
  },
  {
   "cell_type": "markdown",
   "metadata": {},
   "source": [
    "# Operator in python"
   ]
  },
  {
   "cell_type": "markdown",
   "metadata": {},
   "source": [
    "\n",
    "\n",
    "1. Arithmetic Operators\n",
    "   - `+` Addition\n",
    "   - `-` Subtraction\n",
    "   - `*` Multiplication\n",
    "   - `/` Division\n",
    "   - `%` Modulus\n",
    "   - `**` Exponent\n",
    "   - `//` Floor Division\n"
   ]
  },
  {
   "cell_type": "markdown",
   "metadata": {},
   "source": [
    "2. Assignment Operators\n",
    "   - `=` Assign value of right side of expression to left side operand\n",
    "   - `+=` Add AND: Add right side operand with left side operand and then assign to left operand\n",
    "   - `-=` Subtract AND: Subtract right operand from left operand and then assign to left operand\n",
    "   - `*=` Multiply AND: Multiply right operand with left operand and then assign to left operand\n",
    "   - `/=` Divide AND: Divide left operand with right operand and then assign to left operand\n",
    "   - `%=` Modulus AND: Takes modulus using left and right operands and assign result to left operand\n",
    "   - `**=` Exponent AND: Calculate exponent(raise power) value using operands and assign value to left operand\n",
    "   - `//=` Floor Division: Divide left operand with right operand and then assign the value(floor) to left operand\n",
    "   - `&=` Bitwise AND: Bitwise AND operation on operands and assign value to left operand\n",
    "   - `|=` Bitwise OR: Bitwise OR operation on operands and assign value to left operand\n",
    "   - `^=` Bitwise XOR: Bitwise XOR operation on operands and assign value to left operand\n",
    "   - `>>=` Bitwise right shift: Bitwise right shift operation on operands and assign value to left operand\n",
    "   - `<<=` Bitwise left shift: Bitwise left shift operation on operands and assign value to left operand\n",
    "   - `:=` Walrus: Assign expression to variable name and return the value (Python 3.8+)\n"
   ]
  },
  {
   "cell_type": "markdown",
   "metadata": {},
   "source": [
    "3. Comparison (Relational) Operators\n",
    "   - `==` Equal\n",
    "   - `!=` Not equal\n",
    "   - `>` Greater than\n",
    "   - `<` Less than\n",
    "   - `>=` Greater than or equal to\n",
    "   - `<=` Less than or equal to\n"
   ]
  },
  {
   "cell_type": "markdown",
   "metadata": {},
   "source": [
    "4. Logical Operators\n",
    "    - `and` True if both the operands are true\n",
    "    - `or` True if either of the operands is true\n",
    "    - `not` True if operand is false (complements the operand)\n",
    "\n"
   ]
  },
  {
   "cell_type": "markdown",
   "metadata": {},
   "source": [
    "5. Bitwise Operators\n",
    "    - `&` Bitwise AND\n",
    "    - `|` Bitwise OR\n",
    "    - `~` Bitwise NOT\n",
    "    - `^` Bitwise XOR"
   ]
  },
  {
   "cell_type": "markdown",
   "metadata": {},
   "source": [
    "6. Identity Operators\n",
    "  - `is` True if the operands are identical (refer to the same object)\n",
    "  - `is not` True if the operands are not identical (do not refer to the same object)"
   ]
  },
  {
   "cell_type": "markdown",
   "metadata": {},
   "source": [
    "7. Membership Operators\n",
    "   - `in` True if value is found in the sequence\n",
    "   - `not in` True if value is not found in the sequence\n"
   ]
  },
  {
   "cell_type": "markdown",
   "metadata": {},
   "source": [
    "# conditional statements\n",
    "\n",
    "- `if` statement\n",
    "- `if-else` statement\n",
    "- `if-elif-else` statement\n",
    "- `match case` statement\n"
   ]
  },
  {
   "cell_type": "markdown",
   "metadata": {},
   "source": [
    "# built-in function\n",
    "\n",
    "- `abs()` - returns absolute value of a number\n",
    "- `min()` - returns the smallest value among the arguments\n",
    "- `max()` - returns the largest value among the arguments\n",
    "- `sum()` - returns the sum of all items in an iterable\n",
    "- `round()` - rounds a floating-point value to the nearest integer\n",
    "- `pow()` - returns the power of a number\n",
    "- `len()` - returns the length of an object\n",
    "- `sorted()` - returns a sorted list of the specified iterable object\n",
    "- `reversed()` - returns a reversed iterator object\n",
    "- `enumerate()` - returns an enumerate object\n",
    "- `zip()` - returns an iterator of tuples\n",
    "- `map()` - applies a function to all the items in an input_list"
   ]
  },
  {
   "cell_type": "code",
   "execution_count": null,
   "metadata": {},
   "outputs": [],
   "source": []
  }
 ],
 "metadata": {
  "kernelspec": {
   "display_name": "Python 3",
   "language": "python",
   "name": "python3"
  },
  "language_info": {
   "codemirror_mode": {
    "name": "ipython",
    "version": 3
   },
   "file_extension": ".py",
   "mimetype": "text/x-python",
   "name": "python",
   "nbconvert_exporter": "python",
   "pygments_lexer": "ipython3",
   "version": "3.11.7"
  }
 },
 "nbformat": 4,
 "nbformat_minor": 2
}
